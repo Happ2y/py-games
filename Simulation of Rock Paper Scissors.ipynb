{
  "cells": [
    {
      "cell_type": "markdown",
      "metadata": {
        "colab_type": "text",
        "id": "view-in-github"
      },
      "source": [
        "<a href=\"https://colab.research.google.com/github/Happ2y/py-games/blob/main/Simulation_of_Rock_Paper_Scissors.ipynb\" target=\"_parent\"><img src=\"https://colab.research.google.com/assets/colab-badge.svg\" alt=\"Open In Colab\"/></a>"
      ]
    },
    {
      "cell_type": "markdown",
      "metadata": {
        "id": "N7sl8-IeEuR8"
      },
      "source": [
        "**Swaraj Kumar**\n",
        "\n",
        "*AIM*: Simulation of Rock, Paper & Scissors Game\n",
        "\n",
        "1.   Rock v/s Paper : Paper\n",
        "2.   Rock v/s Scissors : Rock\n",
        "3.   Paper v/s Scissors : Scissors\n",
        "\n"
      ]
    },
    {
      "cell_type": "code",
      "execution_count": null,
      "metadata": {
        "id": "csuK25rlEfnI"
      },
      "outputs": [],
      "source": [
        "# import dependecies\n",
        "import time\n",
        "import random"
      ]
    },
    {
      "cell_type": "code",
      "execution_count": null,
      "metadata": {
        "id": "OcItLunpFfAq"
      },
      "outputs": [],
      "source": [
        "# possible actions\n",
        "actions = [\"rock\", \"paper\", \"scissors\"]"
      ]
    },
    {
      "cell_type": "code",
      "execution_count": null,
      "metadata": {
        "colab": {
          "base_uri": "https://localhost:8080/"
        },
        "id": "y-Mxy4HrFtpM",
        "outputId": "2ce06750-c322-4bd9-b151-5404ae61d20b"
      },
      "outputs": [],
      "source": [
        "# initialize players\n",
        "playerA = \"COMPUTER\"\n",
        "print(\"Enter your name here : \",end=\" \")\n",
        "playerB = input().upper()"
      ]
    },
    {
      "cell_type": "code",
      "execution_count": null,
      "metadata": {
        "id": "iQcEHiANGh2b"
      },
      "outputs": [],
      "source": [
        "# initialize score & log\n",
        "scoreA = scoreB = 0\n",
        "log = list()\n",
        "play = True"
      ]
    },
    {
      "cell_type": "code",
      "execution_count": null,
      "metadata": {
        "colab": {
          "base_uri": "https://localhost:8080/"
        },
        "id": "gMr_mgZJGr8c",
        "outputId": "dee79af3-ed77-4771-93df-363b3da2e318"
      },
      "outputs": [],
      "source": [
        "# game logic\n",
        "while play:\n",
        "  choiceA = random.choice(actions)\n",
        "  print(\"Enter your choice {rock, paper or scissors} :\",end=\" \")\n",
        "  choiceB = input().lower()\n",
        "  if choiceB not in actions:\n",
        "    print(f\"{playerB}, please select a valid choice...\")\n",
        "    continue\n",
        "  else:\n",
        "    if choiceA == choiceB:\n",
        "      scoreA +=1\n",
        "      scoreB +=1\n",
        "    else:\n",
        "      if choiceA == \"rock\":\n",
        "        if choiceB == \"paper\":\n",
        "          scoreB +=1\n",
        "        else:\n",
        "          scoreA +=1\n",
        "      elif choiceA == \"paper\":\n",
        "        if choiceB == \"scissors\":\n",
        "          scoreB +=1\n",
        "        else:\n",
        "          scoreA +=1\n",
        "      else:\n",
        "        if choiceB == \"rock\":\n",
        "          scoreB +=1\n",
        "        else:\n",
        "          scoreA +=1\n",
        "  log.append(f\"{playerA} chose {choiceA} & {playerB} chose {choiceB}\")\n",
        "  print(f\"{playerA} chose {choiceA} & {playerB} chose {choiceB}\")\n",
        "  print(\"Do you want to play (y/n) :\",end=\" \")\n",
        "  if input().lower() == \"n\":\n",
        "    play = False"
      ]
    },
    {
      "cell_type": "code",
      "execution_count": null,
      "metadata": {
        "colab": {
          "base_uri": "https://localhost:8080/"
        },
        "id": "zxkR2ZyZM9PZ",
        "outputId": "633840c9-b868-4f51-be61-823d74fd90d1"
      },
      "outputs": [],
      "source": [
        "# generate game log\n",
        "print(\"Generating game logs...\")\n",
        "for i in log:\n",
        "  print(i)"
      ]
    },
    {
      "cell_type": "code",
      "execution_count": null,
      "metadata": {
        "colab": {
          "base_uri": "https://localhost:8080/"
        },
        "id": "jwz91tYANKmh",
        "outputId": "988d9097-46be-4537-9709-8e0a078aefc0"
      },
      "outputs": [],
      "source": [
        "# declare results\n",
        "if scoreA > scoreB:\n",
        "  print(f\"Congratulations {playerA}, wins by {scoreA - scoreB} points\")\n",
        "elif scoreB > scoreA:\n",
        "  print(f\"Congratulations {playerB}, wins by {scoreB - scoreA} points\")\n",
        "else:\n",
        "  print(\"Played too intense, it's a draw...\")"
      ]
    }
  ],
  "metadata": {
    "colab": {
      "authorship_tag": "ABX9TyPoBlFBuQ/Jqee4sfx5CgZO",
      "collapsed_sections": [],
      "include_colab_link": true,
      "name": "Simulation of Rock Paper Scissors.ipynb",
      "provenance": []
    },
    "kernelspec": {
      "display_name": "Python 3.10.5 64-bit",
      "language": "python",
      "name": "python3"
    },
    "language_info": {
      "codemirror_mode": {
        "name": "ipython",
        "version": 3
      },
      "file_extension": ".py",
      "mimetype": "text/x-python",
      "name": "python",
      "nbconvert_exporter": "python",
      "pygments_lexer": "ipython3",
      "version": "3.10.5"
    },
    "vscode": {
      "interpreter": {
        "hash": "8c3d4d9970fc5c09c50d9318a9c7fbf4d0159e4b28833276f5678ee22bded273"
      }
    }
  },
  "nbformat": 4,
  "nbformat_minor": 0
}
