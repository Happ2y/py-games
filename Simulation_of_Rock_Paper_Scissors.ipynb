{
  "nbformat": 4,
  "nbformat_minor": 0,
  "metadata": {
    "colab": {
      "name": "Simulation of Rock Paper Scissors.ipynb",
      "provenance": [],
      "collapsed_sections": [],
      "authorship_tag": "ABX9TyPoBlFBuQ/Jqee4sfx5CgZO",
      "include_colab_link": true
    },
    "kernelspec": {
      "name": "python3",
      "display_name": "Python 3"
    },
    "language_info": {
      "name": "python"
    }
  },
  "cells": [
    {
      "cell_type": "markdown",
      "metadata": {
        "id": "view-in-github",
        "colab_type": "text"
      },
      "source": [
        "<a href=\"https://colab.research.google.com/github/Happ2y/py-games/blob/main/Simulation_of_Rock_Paper_Scissors.ipynb\" target=\"_parent\"><img src=\"https://colab.research.google.com/assets/colab-badge.svg\" alt=\"Open In Colab\"/></a>"
      ]
    },
    {
      "cell_type": "markdown",
      "source": [
        "**Swaraj Kumar**\n",
        "\n",
        "*AIM*: Simulation of Rock, Paper & Scissors Game\n",
        "\n",
        "1.   Rock v/s Paper : Paper\n",
        "2.   Rock v/s Scissors : Rock\n",
        "3.   Paper v/s Scissors : Scissors\n",
        "\n"
      ],
      "metadata": {
        "id": "N7sl8-IeEuR8"
      }
    },
    {
      "cell_type": "code",
      "execution_count": 18,
      "metadata": {
        "id": "csuK25rlEfnI"
      },
      "outputs": [],
      "source": [
        "# import dependecies\n",
        "import time\n",
        "import random"
      ]
    },
    {
      "cell_type": "code",
      "source": [
        "# possible actions\n",
        "actions = [\"rock\", \"paper\", \"scissors\"]"
      ],
      "metadata": {
        "id": "OcItLunpFfAq"
      },
      "execution_count": 19,
      "outputs": []
    },
    {
      "cell_type": "code",
      "source": [
        "# initialize players\n",
        "playerA = \"COMPUTER\"\n",
        "print(\"Enter your name here : \",end=\" \")\n",
        "playerB = input().upper()"
      ],
      "metadata": {
        "colab": {
          "base_uri": "https://localhost:8080/"
        },
        "id": "y-Mxy4HrFtpM",
        "outputId": "2ce06750-c322-4bd9-b151-5404ae61d20b"
      },
      "execution_count": 20,
      "outputs": [
        {
          "name": "stdout",
          "output_type": "stream",
          "text": [
            "Enter your name here :  Swaraj\n"
          ]
        }
      ]
    },
    {
      "cell_type": "code",
      "source": [
        "# initialize score & log\n",
        "scoreA = scoreB = 0\n",
        "log = list()\n",
        "play = True"
      ],
      "metadata": {
        "id": "iQcEHiANGh2b"
      },
      "execution_count": 21,
      "outputs": []
    },
    {
      "cell_type": "code",
      "source": [
        "# game logic\n",
        "while play:\n",
        "  choiceA = random.choice(actions)\n",
        "  print(\"Enter your choice {rock, paper or scissors} :\",end=\" \")\n",
        "  choiceB = input().lower()\n",
        "  if choiceB not in actions:\n",
        "    print(f\"{playerB}, please select a valid choice...\")\n",
        "    continue\n",
        "  else:\n",
        "    if choiceA == choiceB:\n",
        "      scoreA +=1\n",
        "      scoreB +=1\n",
        "    else:\n",
        "      if choiceA == \"rock\":\n",
        "        if choiceB == \"paper\":\n",
        "          scoreB +=1\n",
        "        else:\n",
        "          scoreA +=1\n",
        "      elif choiceA == \"paper\":\n",
        "        if choiceB == \"scissors\":\n",
        "          scoreB +=1\n",
        "        else:\n",
        "          scoreA +=1\n",
        "      else:\n",
        "        if choiceB == \"rock\":\n",
        "          scoreB +=1\n",
        "        else:\n",
        "          scoreA +=1\n",
        "  log.append(f\"{playerA} chose {choiceA} & {playerB} chose {choiceB}\")\n",
        "  print(f\"{playerA} chose {choiceA} & {playerB} chose {choiceB}\")\n",
        "  print(\"Do you want to play (y/n) :\",end=\" \")\n",
        "  if input().lower() == \"n\":\n",
        "    play = False"
      ],
      "metadata": {
        "colab": {
          "base_uri": "https://localhost:8080/"
        },
        "id": "gMr_mgZJGr8c",
        "outputId": "dee79af3-ed77-4771-93df-363b3da2e318"
      },
      "execution_count": 22,
      "outputs": [
        {
          "name": "stdout",
          "output_type": "stream",
          "text": [
            "Enter your choice {rock, paper or scissors} : apple\n",
            "SWARAJ, please select a valid choice...\n",
            "Enter your choice {rock, paper or scissors} : rock\n",
            "COMPUTER chose scissors & SWARAJ chose rock\n",
            "Do you want to play (y/n) : y\n",
            "Enter your choice {rock, paper or scissors} : scissors\n",
            "COMPUTER chose scissors & SWARAJ chose scissors\n",
            "Do you want to play (y/n) : y\n",
            "Enter your choice {rock, paper or scissors} : paper\n",
            "COMPUTER chose scissors & SWARAJ chose paper\n",
            "Do you want to play (y/n) : n\n"
          ]
        }
      ]
    },
    {
      "cell_type": "code",
      "source": [
        "# generate game log\n",
        "print(\"Generating game logs...\")\n",
        "for i in log:\n",
        "  print(i)"
      ],
      "metadata": {
        "colab": {
          "base_uri": "https://localhost:8080/"
        },
        "id": "zxkR2ZyZM9PZ",
        "outputId": "633840c9-b868-4f51-be61-823d74fd90d1"
      },
      "execution_count": 23,
      "outputs": [
        {
          "output_type": "stream",
          "name": "stdout",
          "text": [
            "Generating game logs...\n",
            "COMPUTER chose scissors & SWARAJ chose rock\n",
            "COMPUTER chose scissors & SWARAJ chose scissors\n",
            "COMPUTER chose scissors & SWARAJ chose paper\n"
          ]
        }
      ]
    },
    {
      "cell_type": "code",
      "source": [
        "# declare results\n",
        "if scoreA > scoreB:\n",
        "  print(f\"Congratulations {playerA}, wins by {scoreA - scoreB} points\")\n",
        "elif scoreB > scoreA:\n",
        "  print(f\"Congratulations {playerB}, wins by {scoreB - scoreA} points\")\n",
        "else:\n",
        "  print(\"Played too intense, it's a draw...\")"
      ],
      "metadata": {
        "colab": {
          "base_uri": "https://localhost:8080/"
        },
        "id": "jwz91tYANKmh",
        "outputId": "988d9097-46be-4537-9709-8e0a078aefc0"
      },
      "execution_count": 24,
      "outputs": [
        {
          "output_type": "stream",
          "name": "stdout",
          "text": [
            "Played too intense, it's a draw...\n"
          ]
        }
      ]
    }
  ]
}